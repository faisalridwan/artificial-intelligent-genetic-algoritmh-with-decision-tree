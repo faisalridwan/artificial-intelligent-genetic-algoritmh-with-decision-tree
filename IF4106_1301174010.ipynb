{
 "cells": [
  {
   "cell_type": "markdown",
   "metadata": {},
   "source": [
    "### Import Library yang digunakan"
   ]
  },
  {
   "cell_type": "code",
   "execution_count": 983,
   "metadata": {},
   "outputs": [],
   "source": [
    "import numpy.random as npRandom\n",
    "import numpy as np\n",
    "import itertools\n",
    "import random\n",
    "import csv\n",
    "from numpy import array\n",
    "from numpy import argmax\n",
    "from sklearn.preprocessing import LabelEncoder\n",
    "from sklearn.preprocessing import OneHotEncoder"
   ]
  },
  {
   "cell_type": "code",
   "execution_count": null,
   "metadata": {},
   "outputs": [],
   "source": []
  },
  {
   "cell_type": "code",
   "execution_count": 984,
   "metadata": {},
   "outputs": [],
   "source": [
    "import pandas as pd\n",
    "dataset = pd.read_csv(\"dataSet.txt\")"
   ]
  },
  {
   "cell_type": "markdown",
   "metadata": {},
   "source": [
    "### Generate Kromosom Biner"
   ]
  },
  {
   "cell_type": "code",
   "execution_count": 985,
   "metadata": {},
   "outputs": [],
   "source": [
    "# Digunakan untuk meng generate kromosom menjadi biner\n",
    "def generateKromosom(jumlahPopulasi, panjangKromosom):\n",
    "    populasi = [[npRandom.randint(0,2) \n",
    "    for i in range(panjangKromosom)] \n",
    "    for j in range(jumlahPopulasi)]\n",
    "    return populasi"
   ]
  },
  {
   "cell_type": "markdown",
   "metadata": {},
   "source": [
    "## Encode label jadi biner"
   ]
  },
  {
   "cell_type": "code",
   "execution_count": 986,
   "metadata": {},
   "outputs": [],
   "source": [
    "# Melakukan encode menjadi angka\n",
    "def encodeToInteger(data):\n",
    "    values = array(data)\n",
    "    # integer encode\n",
    "    label_encoder = LabelEncoder()\n",
    "    integer_encoded = label_encoder.fit_transform(values)\n",
    "    return integer_encoded\n",
    "\n",
    "#Encode Label menjadi biner\n",
    "def encodeLabel(data):\n",
    "    values = array(data)\n",
    "    # integer encode\n",
    "    label_encoder = LabelEncoder()\n",
    "    integer_encoded = label_encoder.fit_transform(values)\n",
    "    # binary encode\n",
    "    onehot_encoder = OneHotEncoder(sparse=False)\n",
    "    integer_encoded = integer_encoded.reshape(len(integer_encoded), 1)\n",
    "    onehot_encoded = onehot_encoder.fit_transform(integer_encoded)\n",
    "    # invert first example\n",
    "    inverted = label_encoder.inverse_transform([argmax(onehot_encoded[0, :])])\n",
    "\n",
    "    onehot_encoded = onehot_encoded.astype(int)\n",
    "    return onehot_encoded.tolist()\n",
    "\n",
    "# def changeLabelToArray(dataSet):\n",
    "#     suhu = dataset[['Suhu']]\n",
    "#     waktu = dataset[['Waktu']]\n",
    "#     kondisi_langit = dataset[['Kondisi Langit']]\n",
    "#     kelembapan = dataset[['Kelembapan']]\n",
    "#     terbang = dataset[['Terbang/Tidak']]\n",
    "    \n",
    "#     arrSuhu = encodeLabel(suhu)\n",
    "#     arrWaktu = encodeLabel(waktu)\n",
    "#     arrKondisiLangit = encodeLabel(kondisi_langit)\n",
    "#     arrKelembapan = encodeLabel(kelembapan)\n",
    "#     arrTerbang = encodeLabelTerbang(terbang)\n",
    "# #     arrTerbang = encodeLabel(terbang)\n",
    "#     listDataSet = []\n",
    "#     for i in range(0, len(suhu)):\n",
    "# #         tmpKromosom1 = arrSuhu[i]+arrWaktu[i]+arrKondisiLangit[i]+arrKelembapan[i]+arrTerbang[i]\n",
    "#         tmpKromosom1 = arrSuhu[i]+arrWaktu[i]+arrKondisiLangit[i]+arrKelembapan[i]+[arrTerbang[i]]\n",
    "#         listDataSet.append(tmpKromosom1)\n",
    "#     return listDataSet\n",
    "\n",
    "def changeLabelToArray(data):\n",
    "    arrSuhu = encodeLabel(data[['Suhu']])\n",
    "    arrWaktu = encodeLabel(data[['Waktu']])\n",
    "    arrKondisiLangit = encodeLabel(data[['Kondisi Langit']])\n",
    "    arrKelembapan = encodeLabel(data[['Kelembapan']])\n",
    "    arrTerbang = encodeToInteger(data[['Terbang/Tidak']])\n",
    "    listDataSet = []\n",
    "    for i in range(0, len(arrSuhu)):\n",
    "        tmpKromosom = arrSuhu[i]+arrWaktu[i]+arrKondisiLangit[i]+arrKelembapan[i]+[arrTerbang[i]]\n",
    "        listDataSet.append(tmpKromosom)\n",
    "    return listDataSet"
   ]
  },
  {
   "cell_type": "markdown",
   "metadata": {},
   "source": [
    "### Nilai Fitness"
   ]
  },
  {
   "cell_type": "code",
   "execution_count": 987,
   "metadata": {},
   "outputs": [],
   "source": [
    "def cekBenar(indexBawah, indexAtas, indexBawahData, kromosom, dataSet):\n",
    "    Benar = False\n",
    "    z = indexBawahData\n",
    "    for j in range(indexBawah, indexAtas):\n",
    "        if(dataSet[z] == 1 and kromosom[j] == 1):\n",
    "            Benar = True\n",
    "            break;\n",
    "        z += 1\n",
    "    return Benar\n",
    "\n",
    "def cekBenarTerbang(indexAtas, kromosom, dataSet):\n",
    "    Benar = False\n",
    "    if(dataSet[14] == kromosom[indexAtas]):\n",
    "            Benar = True\n",
    "    return Benar\n",
    "\n",
    "def nilaiFitness(kromosom, dataSet):\n",
    "    nilai = 0\n",
    "    nAturan = round(len(kromosom)/len(dataSet[0]))\n",
    "    for i in range(0, len(dataSet)):\n",
    "        for j in range(0, nAturan):\n",
    "            tmp = j * len(dataSet[0])\n",
    "            cekWaktu = cekBenar(0+tmp, 3+tmp,0, kromosom, dataSet[i])\n",
    "            cekSuhu = cekBenar(3+tmp, 7+tmp,3, kromosom, dataSet[i])\n",
    "            cekKondisiLangit = cekBenar(7+tmp, 11+tmp,7, kromosom, dataSet[i])\n",
    "            cekKelembapan = cekBenar(11+tmp, 14+tmp,11, kromosom, dataSet[i])\n",
    "            cekTerbang = cekBenarTerbang(14+tmp, kromosom, dataSet[i])\n",
    "            if(cekWaktu and cekSuhu and cekKondisiLangit and cekKelembapan and cekTerbang):\n",
    "                nilai += 1\n",
    "                break\n",
    "    return (nilai / len(dataSet)) * 100"
   ]
  },
  {
   "cell_type": "markdown",
   "metadata": {},
   "source": [
    "## Pemilihan Orang Tua (Tournament Selection)"
   ]
  },
  {
   "cell_type": "code",
   "execution_count": 988,
   "metadata": {},
   "outputs": [],
   "source": [
    "def tournamentSelection(populasi, panjangTournament):\n",
    "    idxSample = np.arange(len(populasi))\n",
    "    npRandom.shuffle(idxSample)\n",
    "    idxSample = idxSample[0:panjangTournament]\n",
    "    fitnesses = [nilaiFitness(populasi[idxSample[i]], dataSet) for i in range(0,panjangTournament)]\n",
    "    mergedArray = [(idxSample[i], fitnesses[i]) for i in range(panjangTournament)]\n",
    "    mergedArray = sorted(mergedArray, key = lambda a: a[1], reverse = True)\n",
    "    return mergedArray[0][0], mergedArray[1][0]"
   ]
  },
  {
   "cell_type": "markdown",
   "metadata": {},
   "source": [
    "## Crossover (Only Increasing)"
   ]
  },
  {
   "cell_type": "code",
   "execution_count": 989,
   "metadata": {},
   "outputs": [],
   "source": [
    "def crossover(parent1, parent2, pC, panjangAturan):\n",
    "    prob = npRandom.random()\n",
    "    anak1 = parent1[:]\n",
    "    anak2 = parent2[:]\n",
    "    if(prob <= pC):\n",
    "        #Jika panjang parent 1 > parent 2 maka ditukar agar mudah dikodingan bawahnya\n",
    "        if(len(parent1)>len(parent2)):\n",
    "            tmpParent = parent1[:]\n",
    "            parent1 = parent2[:]\n",
    "            parent2 = tmpParent[:]\n",
    "        \n",
    "        #Random titik untuk parent 1\n",
    "        pointParent1 = [npRandom.randint(1,len(parent1)-1) for i in range(0,2)]\n",
    "        pointParent1.sort()\n",
    "        pointParent2 = []\n",
    "        \n",
    "        #Buat kemungkinan titik yang bisa dibangun untuk parent2\n",
    "        gap1 = pointParent1[1] - pointParent1[0]\n",
    "        gap2 = gap1 % panjangAturan\n",
    "        pointParent2.append([pointParent1[0]]+[pointParent1[0]+gap1])\n",
    "        pointParent2.append([pointParent1[0]]+[pointParent1[0]+gap2])\n",
    "        pointParent2.append([pointParent1[1]-gap1]+[pointParent1[1]])\n",
    "        pointParent2.append([pointParent1[1]-gap2]+[pointParent1[1]])\n",
    "    \n",
    "        #Hilangkan list yang sama dalam list parent2\n",
    "        pointParent2.sort()\n",
    "        pointParent2 = list(pointParent2 for pointParent2,_ in itertools.groupby(pointParent2))\n",
    "        \n",
    "        #Pilih kemungkinan titik yang sudah dicari secara random\n",
    "        pointParent2 = random.choice(pointParent2)\n",
    "        \n",
    "        if(pointParent1 == pointParent2):\n",
    "            anak1 = parent1[0:pointParent1[0]]+parent2[pointParent1[0]:pointParent1[1]]+parent1[pointParent1[1]:len(parent1)]\n",
    "            anak2 = parent2[0:pointParent1[0]]+parent1[pointParent1[0]:pointParent1[1]]+parent2[pointParent1[1]:len(parent1)]\n",
    "        else:\n",
    "            tmpPoint = (len(parent2)+panjangAturan)-((pointParent1[1]-pointParent1[0])+pointParent2[0])\n",
    "            while(tmpPoint < 0):\n",
    "                tmpPoint = tmpPoint + panjangAturan\n",
    "            anak1 = parent1[0:pointParent1[0]]+parent2[pointParent1[0]:pointParent1[1]]+parent1[pointParent1[1]:len(parent1)]\n",
    "            anak2 = parent2[0:pointParent2[0]]+parent1[pointParent1[0]:pointParent1[1]]+parent2[len(parent2)-tmpPoint:len(parent2)]\n",
    "    return anak1,anak2\n",
    "\n",
    "#Untuk hapus kromosom yang bit-nya 1 semua\n",
    "def cekKromosom(kromosom, panjangAturan):\n",
    "    nAturan = len(kromosom)/panjangAturan\n",
    "    for i in range(0, round(nAturan)):\n",
    "        if(kromosom[i*panjangAturan:(i*panjangAturan)+(panjangAturan-1)]==[1,1,1,1,1,1,1,1,1,1,1,1,1,1]):\n",
    "            for j in range(0, panjangAturan):\n",
    "                del kromosom[i*15]\n",
    "            i -= 1\n",
    "    return kromosom"
   ]
  },
  {
   "cell_type": "markdown",
   "metadata": {},
   "source": [
    "### Mutasi Bit Level Mutation"
   ]
  },
  {
   "cell_type": "code",
   "execution_count": 990,
   "metadata": {},
   "outputs": [],
   "source": [
    "def mutasi(kromosom, pM):\n",
    "    for i in range(len(kromosom)):\n",
    "        prob = npRandom.random()\n",
    "        if(prob <= pM):\n",
    "            tmp = kromosom[i]\n",
    "            while(tmp==kromosom[i]):\n",
    "                kromosom[i] = npRandom.randint(2)\n",
    "    return kromosom"
   ]
  },
  {
   "cell_type": "markdown",
   "metadata": {},
   "source": [
    "## Pergantian Generasi (Steady State : Fitness-Based Selection)"
   ]
  },
  {
   "cell_type": "code",
   "execution_count": 991,
   "metadata": {},
   "outputs": [],
   "source": [
    "def steadyState(jumlahGeneration, populasi, jumlahPopulasi, panjangTournament):\n",
    "    for z in range(jumlahGeneration):\n",
    "        gabungan = []\n",
    "        child = []\n",
    "        fitnesses = []\n",
    "        for i in range(round(len(populasi)/2)):\n",
    "            idxParent1, idxParent2 = tournamentSelection(populasi, panjangTournament)\n",
    "            anak1 = populasi[idxParent1]\n",
    "            anak2 = populasi[idxParent2]\n",
    "            \n",
    "            #Crossover\n",
    "            anak1,anak2 = crossover(anak1,anak2,pC,panjangAturan)\n",
    "            \n",
    "            #Mutasi\n",
    "            anak1 = mutasi(anak1,pM)\n",
    "            anak2 = mutasi(anak2,pM)\n",
    "            \n",
    "            #Cek jika ada kromosom yang gen-nya 1 bit semua\n",
    "            anak1 = cekKromosom(anak1, panjangAturan)\n",
    "            anak2 = cekKromosom(anak2, panjangAturan)\n",
    "            \n",
    "            child.append(anak1)\n",
    "            child.append(anak2)\n",
    "            \n",
    "        gabungan = populasi + child\n",
    "        for i in range(len(gabungan)):\n",
    "            fitnesses.append(nilaiFitness(gabungan[i],dataSet))\n",
    "        mergedArray = [(gabungan[i], fitnesses[i]) for i in range(len(gabungan))]\n",
    "        mergedArray = sorted(mergedArray, key = lambda a : a[1], reverse = True)\n",
    "        pop = []\n",
    "        tmp = []\n",
    "        t = 0\n",
    "        jumlah = 0\n",
    "        \n",
    "        for i in range(len(gabungan)):\n",
    "            if(i >= 1):\n",
    "                if(mergedArray[i][1] == mergedArray[jumlah-1][1]):\n",
    "                    tmp.append(mergedArray[i][0])\n",
    "                    t += 1\n",
    "                else:\n",
    "                    pop.append(mergedArray[i][0])\n",
    "                    jumlah+=1\n",
    "            else:\n",
    "                pop.append(mergedArray[i][0])\n",
    "                jumlah+=1\n",
    "            if(jumlah == jumlahPopulasi):\n",
    "                break\n",
    "        \n",
    "        z = 0\n",
    "        while(jumlah < len(populasi)):\n",
    "            pop.append(tmp[z])\n",
    "            z+=1\n",
    "            jumlah+=1\n",
    "        \n",
    "        populasi = []\n",
    "        populasi = pop\n",
    "        \n",
    "    return populasi"
   ]
  },
  {
   "cell_type": "markdown",
   "metadata": {},
   "source": [
    "## Deklarasi Variable"
   ]
  },
  {
   "cell_type": "code",
   "execution_count": 992,
   "metadata": {},
   "outputs": [
    {
     "name": "stdout",
     "output_type": "stream",
     "text": [
      "[[1, 0, 0, 0, 0, 1, 0, 1, 0, 0, 0, 1, 0, 0, 0], [1, 0, 0, 0, 0, 1, 0, 0, 1, 0, 0, 1, 0, 0, 0], [1, 0, 0, 0, 1, 0, 0, 0, 0, 1, 0, 1, 0, 0, 0], [1, 0, 0, 0, 0, 0, 1, 0, 0, 0, 1, 0, 1, 0, 1], [1, 0, 0, 1, 0, 0, 0, 1, 0, 0, 0, 0, 0, 1, 0], [1, 0, 0, 1, 0, 0, 0, 0, 1, 0, 0, 1, 0, 0, 1], [1, 0, 0, 0, 1, 0, 0, 0, 1, 0, 0, 0, 1, 0, 1], [1, 0, 0, 0, 0, 1, 0, 1, 0, 0, 0, 0, 1, 0, 0], [1, 0, 0, 0, 0, 0, 1, 0, 0, 1, 0, 1, 0, 0, 0], [1, 0, 0, 0, 0, 1, 0, 0, 0, 0, 1, 0, 1, 0, 1], [1, 0, 0, 0, 0, 0, 1, 1, 0, 0, 0, 0, 0, 1, 0], [1, 0, 0, 0, 0, 0, 1, 0, 1, 0, 0, 0, 1, 0, 0], [1, 0, 0, 0, 1, 0, 0, 1, 0, 0, 0, 1, 0, 0, 1], [1, 0, 0, 1, 0, 0, 0, 0, 0, 1, 0, 0, 1, 0, 1], [1, 0, 0, 0, 1, 0, 0, 0, 1, 0, 0, 1, 0, 0, 0], [1, 0, 0, 0, 1, 0, 0, 0, 0, 0, 1, 1, 0, 0, 0], [1, 0, 0, 1, 0, 0, 0, 1, 0, 0, 0, 0, 1, 0, 0], [1, 0, 0, 0, 0, 1, 0, 0, 0, 1, 0, 0, 0, 1, 0], [1, 0, 0, 0, 1, 0, 0, 0, 0, 0, 1, 0, 0, 1, 1], [1, 0, 0, 0, 0, 1, 0, 0, 0, 1, 0, 0, 1, 0, 0], [1, 0, 0, 1, 0, 0, 0, 0, 0, 0, 1, 0, 1, 0, 1], [1, 0, 0, 0, 1, 0, 0, 0, 0, 0, 1, 0, 1, 0, 0], [1, 0, 0, 0, 0, 0, 1, 0, 0, 1, 0, 0, 0, 1, 0], [1, 0, 0, 1, 0, 0, 0, 0, 0, 1, 0, 0, 0, 1, 0], [0, 1, 0, 0, 0, 0, 1, 1, 0, 0, 0, 0, 0, 1, 0], [0, 1, 0, 0, 1, 0, 0, 1, 0, 0, 0, 0, 1, 0, 1], [0, 1, 0, 0, 0, 1, 0, 1, 0, 0, 0, 0, 1, 0, 1], [0, 1, 0, 0, 1, 0, 0, 0, 0, 0, 1, 1, 0, 0, 1], [0, 1, 0, 1, 0, 0, 0, 0, 0, 1, 0, 0, 0, 1, 0], [0, 1, 0, 0, 0, 1, 0, 0, 0, 0, 1, 1, 0, 0, 1], [0, 1, 0, 0, 0, 0, 1, 0, 0, 1, 0, 0, 1, 0, 0], [0, 1, 0, 0, 1, 0, 0, 0, 1, 0, 0, 0, 1, 0, 1], [0, 1, 0, 0, 0, 0, 1, 0, 1, 0, 0, 0, 1, 0, 0], [0, 1, 0, 1, 0, 0, 0, 0, 0, 0, 1, 0, 1, 0, 0], [0, 1, 0, 1, 0, 0, 0, 1, 0, 0, 0, 0, 0, 1, 1], [0, 1, 0, 0, 0, 0, 1, 0, 0, 0, 1, 0, 1, 0, 0], [0, 1, 0, 0, 0, 0, 1, 1, 0, 0, 0, 1, 0, 0, 1], [0, 1, 0, 0, 0, 1, 0, 0, 0, 1, 0, 1, 0, 0, 1], [0, 1, 0, 0, 1, 0, 0, 0, 0, 0, 1, 0, 0, 1, 1], [0, 1, 0, 0, 0, 0, 1, 0, 0, 1, 0, 0, 0, 1, 0], [0, 1, 0, 0, 1, 0, 0, 0, 0, 1, 0, 1, 0, 0, 1], [0, 1, 0, 0, 0, 1, 0, 0, 1, 0, 0, 1, 0, 0, 1], [0, 1, 0, 0, 1, 0, 0, 0, 0, 1, 0, 0, 0, 1, 1], [0, 1, 0, 1, 0, 0, 0, 0, 1, 0, 0, 1, 0, 0, 1], [0, 1, 0, 0, 1, 0, 0, 0, 0, 1, 0, 0, 1, 0, 1], [0, 1, 0, 0, 1, 0, 0, 0, 0, 0, 1, 0, 1, 0, 1], [0, 1, 0, 0, 0, 1, 0, 1, 0, 0, 0, 1, 0, 0, 1], [0, 1, 0, 0, 0, 0, 1, 0, 0, 1, 0, 1, 0, 0, 0], [0, 1, 0, 0, 1, 0, 0, 0, 1, 0, 0, 0, 0, 1, 1], [0, 1, 0, 0, 0, 1, 0, 0, 0, 1, 0, 0, 1, 0, 0], [0, 1, 0, 0, 1, 0, 0, 1, 0, 0, 0, 0, 0, 1, 1], [0, 1, 0, 0, 0, 0, 1, 0, 0, 0, 1, 0, 0, 1, 0], [0, 1, 0, 0, 0, 1, 0, 0, 0, 0, 1, 0, 1, 0, 1], [0, 1, 0, 0, 1, 0, 0, 0, 1, 0, 0, 1, 0, 0, 1], [0, 1, 0, 1, 0, 0, 0, 1, 0, 0, 0, 1, 0, 0, 1], [0, 0, 1, 0, 0, 0, 1, 1, 0, 0, 0, 0, 1, 0, 1], [0, 0, 1, 0, 1, 0, 0, 0, 1, 0, 0, 0, 1, 0, 1], [0, 0, 1, 0, 0, 1, 0, 0, 1, 0, 0, 0, 0, 1, 1], [0, 0, 1, 0, 0, 1, 0, 1, 0, 0, 0, 0, 0, 1, 1], [0, 0, 1, 0, 0, 1, 0, 0, 0, 1, 0, 0, 0, 1, 0], [0, 0, 1, 0, 1, 0, 0, 1, 0, 0, 0, 0, 0, 1, 0], [0, 0, 1, 0, 1, 0, 0, 0, 0, 1, 0, 1, 0, 0, 1], [0, 0, 1, 0, 0, 1, 0, 0, 1, 0, 0, 1, 0, 0, 1], [0, 0, 1, 0, 1, 0, 0, 1, 0, 0, 0, 1, 0, 0, 1], [0, 0, 1, 0, 0, 0, 1, 0, 0, 0, 1, 0, 1, 0, 0], [0, 0, 1, 0, 0, 0, 1, 0, 1, 0, 0, 0, 1, 0, 1], [0, 0, 1, 0, 1, 0, 0, 0, 0, 0, 1, 0, 1, 0, 0], [0, 0, 1, 0, 0, 0, 1, 1, 0, 0, 0, 1, 0, 0, 0], [0, 0, 1, 0, 1, 0, 0, 0, 1, 0, 0, 0, 0, 1, 0], [0, 0, 1, 0, 0, 0, 1, 0, 1, 0, 0, 1, 0, 0, 0], [0, 0, 1, 1, 0, 0, 0, 0, 0, 1, 0, 0, 0, 1, 0], [0, 0, 1, 0, 0, 0, 1, 0, 0, 0, 1, 0, 0, 1, 1], [0, 0, 1, 1, 0, 0, 0, 0, 0, 1, 0, 1, 0, 0, 0], [0, 0, 1, 1, 0, 0, 0, 0, 0, 0, 1, 1, 0, 0, 0], [0, 0, 1, 0, 0, 0, 1, 0, 0, 1, 0, 0, 1, 0, 0], [0, 0, 1, 0, 1, 0, 0, 0, 0, 1, 0, 0, 1, 0, 0], [0, 0, 1, 0, 1, 0, 0, 1, 0, 0, 0, 0, 1, 0, 1], [0, 0, 1, 1, 0, 0, 0, 1, 0, 0, 0, 1, 0, 0, 0], [0, 0, 1, 1, 0, 0, 0, 0, 0, 0, 1, 0, 1, 0, 1], [0, 0, 1, 1, 0, 0, 0, 1, 0, 0, 0, 0, 0, 1, 0]]\n"
     ]
    },
    {
     "name": "stderr",
     "output_type": "stream",
     "text": [
      "C:\\Users\\Faisal Ridwan\\Anaconda3\\lib\\site-packages\\sklearn\\preprocessing\\_encoders.py:415: FutureWarning: The handling of integer data will change in version 0.22. Currently, the categories are determined based on the range [0, max(values)], while in the future they will be determined based on the unique values.\n",
      "If you want the future behaviour and silence this warning, you can specify \"categories='auto'\".\n",
      "In case you used a LabelEncoder before this OneHotEncoder to convert the categories to integers, then you can now use the OneHotEncoder directly.\n",
      "  warnings.warn(msg, FutureWarning)\n",
      "C:\\Users\\Faisal Ridwan\\Anaconda3\\lib\\site-packages\\sklearn\\preprocessing\\label.py:235: DataConversionWarning: A column-vector y was passed when a 1d array was expected. Please change the shape of y to (n_samples, ), for example using ravel().\n",
      "  y = column_or_1d(y, warn=True)\n",
      "C:\\Users\\Faisal Ridwan\\Anaconda3\\lib\\site-packages\\sklearn\\preprocessing\\_encoders.py:415: FutureWarning: The handling of integer data will change in version 0.22. Currently, the categories are determined based on the range [0, max(values)], while in the future they will be determined based on the unique values.\n",
      "If you want the future behaviour and silence this warning, you can specify \"categories='auto'\".\n",
      "In case you used a LabelEncoder before this OneHotEncoder to convert the categories to integers, then you can now use the OneHotEncoder directly.\n",
      "  warnings.warn(msg, FutureWarning)\n",
      "C:\\Users\\Faisal Ridwan\\Anaconda3\\lib\\site-packages\\sklearn\\preprocessing\\label.py:235: DataConversionWarning: A column-vector y was passed when a 1d array was expected. Please change the shape of y to (n_samples, ), for example using ravel().\n",
      "  y = column_or_1d(y, warn=True)\n",
      "C:\\Users\\Faisal Ridwan\\Anaconda3\\lib\\site-packages\\sklearn\\preprocessing\\_encoders.py:415: FutureWarning: The handling of integer data will change in version 0.22. Currently, the categories are determined based on the range [0, max(values)], while in the future they will be determined based on the unique values.\n",
      "If you want the future behaviour and silence this warning, you can specify \"categories='auto'\".\n",
      "In case you used a LabelEncoder before this OneHotEncoder to convert the categories to integers, then you can now use the OneHotEncoder directly.\n",
      "  warnings.warn(msg, FutureWarning)\n",
      "C:\\Users\\Faisal Ridwan\\Anaconda3\\lib\\site-packages\\sklearn\\preprocessing\\label.py:235: DataConversionWarning: A column-vector y was passed when a 1d array was expected. Please change the shape of y to (n_samples, ), for example using ravel().\n",
      "  y = column_or_1d(y, warn=True)\n",
      "C:\\Users\\Faisal Ridwan\\Anaconda3\\lib\\site-packages\\sklearn\\preprocessing\\_encoders.py:415: FutureWarning: The handling of integer data will change in version 0.22. Currently, the categories are determined based on the range [0, max(values)], while in the future they will be determined based on the unique values.\n",
      "If you want the future behaviour and silence this warning, you can specify \"categories='auto'\".\n",
      "In case you used a LabelEncoder before this OneHotEncoder to convert the categories to integers, then you can now use the OneHotEncoder directly.\n",
      "  warnings.warn(msg, FutureWarning)\n",
      "C:\\Users\\Faisal Ridwan\\Anaconda3\\lib\\site-packages\\sklearn\\preprocessing\\label.py:235: DataConversionWarning: A column-vector y was passed when a 1d array was expected. Please change the shape of y to (n_samples, ), for example using ravel().\n",
      "  y = column_or_1d(y, warn=True)\n"
     ]
    }
   ],
   "source": [
    "jumlahPopulasi = 30\n",
    "jumlahGeneration = 50\n",
    "panjangAturan = 15\n",
    "panjangTournament = 15\n",
    "panjangKromosom = 30\n",
    "\n",
    "pC = 0.65\n",
    "pM = 0.065\n",
    "        \n",
    "dataSet = changeLabelToArray(dataset)\n",
    "print(dataSet)"
   ]
  },
  {
   "cell_type": "markdown",
   "metadata": {},
   "source": [
    "### Main"
   ]
  },
  {
   "cell_type": "code",
   "execution_count": 993,
   "metadata": {
    "scrolled": false
   },
   "outputs": [
    {
     "name": "stdout",
     "output_type": "stream",
     "text": [
      "Kromosom : [1, 1, 1, 1, 1, 1, 1, 1, 1, 1, 1, 0, 1, 1, 0, 0, 1, 1, 0, 1, 1, 1, 0, 1, 1, 1, 1, 1, 1, 0, 0, 1, 1, 0, 1, 1, 0, 1, 0, 1, 1, 0, 1, 0, 0, 1, 0, 1, 1, 1, 1, 1, 1, 1, 1, 1, 1, 1, 1, 0, 0, 1, 1, 0, 1, 1, 1, 1, 1, 1, 1, 1, 1, 1, 1, 1, 0, 0, 1, 1, 1, 1, 1, 1, 1, 1, 1, 1, 0, 1, 1, 0, 0, 1, 1, 1, 0, 1, 1, 1, 0, 0, 1, 0, 1, 1, 0, 1, 0, 1, 1, 0, 1, 0, 0, 1, 1, 0, 1, 1, 1, 0, 0, 1, 1, 0, 0, 1, 1, 0, 1, 1, 0, 1, 0, 1, 0, 0, 0, 1, 1, 1, 1, 1, 0, 0, 1, 1, 0, 0, 0, 1, 1, 1, 1, 0, 1, 1, 1, 1, 1, 1, 1, 1, 1]\n",
      "Nilai Fitness/akurasi : 100.0\n",
      "Panjang kromosom 165\n"
     ]
    }
   ],
   "source": [
    "populasi = generateKromosom(jumlahPopulasi, panjangKromosom)\n",
    "pop = steadyState(jumlahGeneration ,populasi, jumlahPopulasi, panjangTournament)\n",
    "\n",
    "# pop[0] = [9,4,7, 4, 4, 8]\n",
    "print(\"Kromosom : \"+str(pop[0]))\n",
    "nilai = nilaiFitness(pop[0],dataSet)\n",
    "print(\"Nilai Fitness/akurasi : \"+str(nilai))\n",
    "print(\"Panjang kromosom \"+str(len(pop[0])))"
   ]
  },
  {
   "cell_type": "markdown",
   "metadata": {},
   "source": [
    "### Klasifikasi"
   ]
  },
  {
   "cell_type": "code",
   "execution_count": 994,
   "metadata": {},
   "outputs": [
    {
     "name": "stdout",
     "output_type": "stream",
     "text": [
      "20\n",
      "20\n"
     ]
    },
    {
     "name": "stderr",
     "output_type": "stream",
     "text": [
      "C:\\Users\\Faisal Ridwan\\Anaconda3\\lib\\site-packages\\sklearn\\preprocessing\\_encoders.py:415: FutureWarning: The handling of integer data will change in version 0.22. Currently, the categories are determined based on the range [0, max(values)], while in the future they will be determined based on the unique values.\n",
      "If you want the future behaviour and silence this warning, you can specify \"categories='auto'\".\n",
      "In case you used a LabelEncoder before this OneHotEncoder to convert the categories to integers, then you can now use the OneHotEncoder directly.\n",
      "  warnings.warn(msg, FutureWarning)\n",
      "C:\\Users\\Faisal Ridwan\\Anaconda3\\lib\\site-packages\\sklearn\\preprocessing\\label.py:235: DataConversionWarning: A column-vector y was passed when a 1d array was expected. Please change the shape of y to (n_samples, ), for example using ravel().\n",
      "  y = column_or_1d(y, warn=True)\n",
      "C:\\Users\\Faisal Ridwan\\Anaconda3\\lib\\site-packages\\sklearn\\preprocessing\\_encoders.py:415: FutureWarning: The handling of integer data will change in version 0.22. Currently, the categories are determined based on the range [0, max(values)], while in the future they will be determined based on the unique values.\n",
      "If you want the future behaviour and silence this warning, you can specify \"categories='auto'\".\n",
      "In case you used a LabelEncoder before this OneHotEncoder to convert the categories to integers, then you can now use the OneHotEncoder directly.\n",
      "  warnings.warn(msg, FutureWarning)\n",
      "C:\\Users\\Faisal Ridwan\\Anaconda3\\lib\\site-packages\\sklearn\\preprocessing\\label.py:235: DataConversionWarning: A column-vector y was passed when a 1d array was expected. Please change the shape of y to (n_samples, ), for example using ravel().\n",
      "  y = column_or_1d(y, warn=True)\n",
      "C:\\Users\\Faisal Ridwan\\Anaconda3\\lib\\site-packages\\sklearn\\preprocessing\\_encoders.py:415: FutureWarning: The handling of integer data will change in version 0.22. Currently, the categories are determined based on the range [0, max(values)], while in the future they will be determined based on the unique values.\n",
      "If you want the future behaviour and silence this warning, you can specify \"categories='auto'\".\n",
      "In case you used a LabelEncoder before this OneHotEncoder to convert the categories to integers, then you can now use the OneHotEncoder directly.\n",
      "  warnings.warn(msg, FutureWarning)\n",
      "C:\\Users\\Faisal Ridwan\\Anaconda3\\lib\\site-packages\\sklearn\\preprocessing\\label.py:235: DataConversionWarning: A column-vector y was passed when a 1d array was expected. Please change the shape of y to (n_samples, ), for example using ravel().\n",
      "  y = column_or_1d(y, warn=True)\n",
      "C:\\Users\\Faisal Ridwan\\Anaconda3\\lib\\site-packages\\sklearn\\preprocessing\\_encoders.py:415: FutureWarning: The handling of integer data will change in version 0.22. Currently, the categories are determined based on the range [0, max(values)], while in the future they will be determined based on the unique values.\n",
      "If you want the future behaviour and silence this warning, you can specify \"categories='auto'\".\n",
      "In case you used a LabelEncoder before this OneHotEncoder to convert the categories to integers, then you can now use the OneHotEncoder directly.\n",
      "  warnings.warn(msg, FutureWarning)\n",
      "C:\\Users\\Faisal Ridwan\\Anaconda3\\lib\\site-packages\\sklearn\\preprocessing\\label.py:235: DataConversionWarning: A column-vector y was passed when a 1d array was expected. Please change the shape of y to (n_samples, ), for example using ravel().\n",
      "  y = column_or_1d(y, warn=True)\n"
     ]
    }
   ],
   "source": [
    "dataUji = pd.read_csv(\"datauji.txt\")\n",
    "\n",
    "dataUji = changeLabelToArray(dataUji)\n",
    "print(len(dataUji))\n",
    "for i in range(0, len(dataUji)):\n",
    "    dataUji[i] = dataUji[i][0:14]\n",
    "\n",
    "print(len(dataUji))\n",
    "\n",
    "def klasifikasi(dataUji, kromosom):\n",
    "    arr = []\n",
    "    nAturan = round(len(kromosom)/(len(dataUji)+1))\n",
    "    for j in range(0, nAturan):\n",
    "        tmp = j * (len(dataUji)+1)\n",
    "        cekWaktu = cekBenar(0+tmp, 3+tmp,0, kromosom, dataUji)\n",
    "        cekSuhu = cekBenar(3+tmp, 7+tmp,3, kromosom, dataUji)\n",
    "        cekKondisiLangit = cekBenar(7+tmp, 11+tmp,7, kromosom, dataUji)\n",
    "        cekKelembapan = cekBenar(11+tmp, 14+tmp,11, kromosom, dataUji)\n",
    "        if(cekWaktu and cekSuhu and cekKondisiLangit and cekKelembapan):\n",
    "#             print(tmp+15)\n",
    "            if(kromosom[tmp]==0):\n",
    "                \n",
    "                return \"0\"\n",
    "                break\n",
    "            else:\n",
    "                return \"1\"\n",
    "                break\n",
    "    return \"0\""
   ]
  },
  {
   "cell_type": "code",
   "execution_count": 995,
   "metadata": {},
   "outputs": [
    {
     "name": "stdout",
     "output_type": "stream",
     "text": [
      "['1', '1', '1', '0', '1', '1', '1', '1', '1', '1', '1', '1', '0', '1', '1', '1', '1', '0', '1', '0']\n"
     ]
    }
   ],
   "source": [
    "   \n",
    "arr = []\n",
    "for i in range(0,len(dataUji)):\n",
    "    arr.append(klasifikasi(dataUji[i],pop[0]))\n",
    "print(arr)\n"
   ]
  },
  {
   "cell_type": "code",
   "execution_count": 996,
   "metadata": {},
   "outputs": [],
   "source": [
    "file = open('Data_Latih.csv','w',newline='\\n')\n",
    "tls = csv.writer(file)\n",
    "tls.writerow(['Terbang/Tidak'])\n",
    "for i in range(len(arr)):\n",
    "    tls.writerow(arr[i])\n",
    "file.close()"
   ]
  },
  {
   "cell_type": "code",
   "execution_count": null,
   "metadata": {},
   "outputs": [],
   "source": []
  }
 ],
 "metadata": {
  "kernelspec": {
   "display_name": "Python 3",
   "language": "python",
   "name": "python3"
  },
  "language_info": {
   "codemirror_mode": {
    "name": "ipython",
    "version": 3
   },
   "file_extension": ".py",
   "mimetype": "text/x-python",
   "name": "python",
   "nbconvert_exporter": "python",
   "pygments_lexer": "ipython3",
   "version": "3.7.4"
  }
 },
 "nbformat": 4,
 "nbformat_minor": 2
}
